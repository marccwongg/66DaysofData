{
 "cells": [
  {
   "cell_type": "code",
   "execution_count": 1,
   "source": [
    "import numpy as np\r\n",
    "from sklearn import preprocessing\r\n",
    "\r\n",
    "raw_csv = np.loadtxt('Audiobooks_data.csv', delimiter = ',')\r\n",
    "\r\n",
    "unscaled_inputs = raw_csv[:,1:-1]\r\n",
    "targets_all = raw_csv[:,-1]\r\n"
   ],
   "outputs": [],
   "metadata": {}
  },
  {
   "cell_type": "code",
   "execution_count": 2,
   "source": [
    "#Balancing the data set\r\n",
    "num1_target = int(np.sum(targets_all))\r\n",
    "zero_target_counter = 0\r\n",
    "indices_to_remove = []\r\n",
    "\r\n",
    "for i in range(targets_all.shape[0]):\r\n",
    "    if targets_all[i] == 0:\r\n",
    "        zero_target_counter += 1\r\n",
    "        if zero_target_counter > num1_target:\r\n",
    "            indices_to_remove.append(i)\r\n",
    "            \r\n",
    "unscaled_inputs_equal_priors = np.delete(unscaled_inputs,indices_to_remove,axis=0)\r\n",
    "target_equal_priors = np.delete(targets_all,indices_to_remove,axis=0)"
   ],
   "outputs": [],
   "metadata": {}
  },
  {
   "cell_type": "code",
   "execution_count": 3,
   "source": [
    "#Standardizing\r\n",
    "scaled_inputs = preprocessing.scale(unscaled_inputs_equal_priors)\r\n",
    "\r\n",
    "#Shuffling\r\n",
    "shuffled_indices = np.arange(scaled_inputs.shape[0])\r\n",
    "np.random.shuffle(shuffled_indices)\r\n",
    "\r\n",
    "shuffled_inputs = scaled_inputs[shuffled_indices]\r\n",
    "shuffled_targets = target_equal_priors[shuffled_indices]"
   ],
   "outputs": [],
   "metadata": {}
  },
  {
   "cell_type": "code",
   "execution_count": 4,
   "source": [
    "#split into train, validation, test\r\n",
    "\r\n",
    "sample_count = shuffled_inputs.shape[0]\r\n",
    "\r\n",
    "train_sample_count = int(0.8* sample_count)\r\n",
    "valid_sample_count = int(0.1*sample_count)\r\n",
    "test_sample_count = sample_count - train_sample_count - valid_sample_count\r\n",
    "\r\n",
    "#Sorting inputs\r\n",
    "train_inputs = shuffled_inputs[:train_sample_count]\r\n",
    "train_targets = shuffled_targets[:train_sample_count]\r\n",
    "\r\n",
    "valid_inputs = shuffled_inputs[train_sample_count:train_sample_count+valid_sample_count]\r\n",
    "valid_targets = shuffled_targets[train_sample_count:train_sample_count+valid_sample_count]\r\n",
    "\r\n",
    "test_inputs = shuffled_inputs[train_sample_count+valid_sample_count:]\r\n",
    "test_targets = shuffled_targets[train_sample_count+valid_sample_count:]\r\n",
    "\r\n",
    "#check if data is balanced and split correctly\r\n",
    "print(np.sum(train_targets), train_sample_count, np.sum(train_targets) / train_sample_count)\r\n",
    "print(np.sum(valid_targets), valid_sample_count, np.sum(valid_targets) / valid_sample_count)\r\n",
    "print(np.sum(test_targets), test_sample_count, np.sum(test_targets) / test_sample_count)"
   ],
   "outputs": [
    {
     "output_type": "stream",
     "name": "stdout",
     "text": [
      "1805.0 3579 0.5043308186644314\n",
      "206.0 447 0.4608501118568233\n",
      "226.0 448 0.5044642857142857\n"
     ]
    }
   ],
   "metadata": {}
  },
  {
   "cell_type": "code",
   "execution_count": 5,
   "source": [
    "#save data in .npz\r\n",
    "\r\n",
    "np.savez('Audiobooks_train_data', inputs=train_inputs,targets=train_targets)\r\n",
    "np.savez('Audiobooks_valid_data', inputs=valid_inputs,targets=valid_targets)\r\n",
    "np.savez('Audiobooks_test_data', inputs=test_inputs,targets=test_targets)"
   ],
   "outputs": [],
   "metadata": {}
  }
 ],
 "metadata": {
  "orig_nbformat": 4,
  "language_info": {
   "name": "python",
   "version": "3.8.10",
   "mimetype": "text/x-python",
   "codemirror_mode": {
    "name": "ipython",
    "version": 3
   },
   "pygments_lexer": "ipython3",
   "nbconvert_exporter": "python",
   "file_extension": ".py"
  },
  "kernelspec": {
   "name": "python3",
   "display_name": "Python 3.8.10 64-bit ('py3-TF25': conda)"
  },
  "interpreter": {
   "hash": "e86511d5626f5a70a06cf43a1b1550634341a3f70e0e358501a2d4688d14c472"
  }
 },
 "nbformat": 4,
 "nbformat_minor": 2
}