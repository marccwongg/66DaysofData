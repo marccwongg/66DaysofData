{
 "cells": [
  {
   "cell_type": "code",
   "execution_count": 8,
   "source": [
    "#import relevent modules\r\n",
    "import numpy as np\r\n",
    "import matplotlib as plt\r\n",
    "import matplotlib.pyplot as pyplt\r\n",
    "from mpl_toolkits.mplot3d import Axes3D"
   ],
   "outputs": [],
   "metadata": {}
  },
  {
   "cell_type": "code",
   "execution_count": 2,
   "source": [
    "#create random input variable\r\n",
    "observations = 1000\r\n",
    "xs = np.random.uniform(-10,10,(observations,1))\r\n",
    "zs = np.random.uniform(-10,10,(observations,1))\r\n",
    "\r\n",
    "input = np.column_stack((xs,zs))\r\n",
    "\r\n",
    "print(input.shape)"
   ],
   "outputs": [
    {
     "output_type": "stream",
     "name": "stdout",
     "text": [
      "(1000, 2)\n"
     ]
    }
   ],
   "metadata": {}
  },
  {
   "cell_type": "code",
   "execution_count": 3,
   "source": [
    "#create noise as real life data contains noises\r\n",
    "noise = np.random.uniform(-1,1,(observations,1))\r\n",
    "\r\n",
    "#create targets (arbitrary)\r\n",
    "target = 2*xs - 3*zs + 5 + noise\r\n",
    "\r\n",
    "print(target.shape)"
   ],
   "outputs": [
    {
     "output_type": "stream",
     "name": "stdout",
     "text": [
      "(1000, 1)\n"
     ]
    }
   ],
   "metadata": {}
  },
  {
   "cell_type": "code",
   "execution_count": 11,
   "source": [
    "#reshaping targets to use 3D plot\r\n",
    "target = target.reshape(observations,)\r\n",
    "\r\n",
    "# Declare the figure\r\n",
    "fig = pyplt.figure()\r\n",
    "\r\n",
    "# A method allowing us to create the 3D plot\r\n",
    "ax = fig.add_subplot(111, projection='3d')\r\n",
    "\r\n",
    "xs = xs.reshape(observations,)\r\n",
    "zs = zs.reshape(observations,)\r\n",
    "\r\n",
    "# Choose the axes.\r\n",
    "ax.plot(xs, zs, target)\r\n",
    "\r\n",
    "# Set labels\r\n",
    "ax.set_xlabel('xs')\r\n",
    "ax.set_ylabel('zs')\r\n",
    "ax.set_zlabel('Targets')\r\n",
    "\r\n",
    "# You can fiddle with the azim parameter to plot the data from different angles. Just change the value of azim=100\r\n",
    "# to azim = 0 ; azim = 200, or whatever. Check and see what happens.\r\n",
    "ax.view_init(azim=100)\r\n",
    "\r\n",
    "# So far we were just describing the plot. This method actually shows the plot. \r\n",
    "pyplt.show()\r\n",
    "\r\n",
    "xs = xs.reshape(observations,1)\r\n",
    "zs = zs.reshape(observations,1)\r\n",
    "\r\n",
    "# We reshape the targets back to the shape that they were in before plotting.\r\n",
    "# This reshaping is a side-effect of the 3D plot. Sorry for that.\r\n",
    "target = target.reshape(observations,1)"
   ],
   "outputs": [
    {
     "output_type": "display_data",
     "data": {
      "text/plain": [
       "<Figure size 432x288 with 1 Axes>"
      ],
      "image/png": "[encoded data removed]"
     },
     "metadata": {
      "needs_background": "light"
     }
    }
   ],
   "metadata": {}
  },
  {
   "cell_type": "code",
   "execution_count": 12,
   "source": [
    "init_range = 0.1\r\n",
    "\r\n",
    "weights = np.random.uniform(-init_range,init_range,(2,1))\r\n",
    "\r\n",
    "#number of biases = number of output\r\n",
    "biases = np.random.uniform(-init_range,init_range,1)\r\n",
    "\r\n",
    "print(weights)\r\n",
    "print(biases)"
   ],
   "outputs": [
    {
     "output_type": "stream",
     "name": "stdout",
     "text": [
      "[[-0.07843244]\n",
      " [-0.08067668]]\n",
      "[-0.07137581]\n"
     ]
    }
   ],
   "metadata": {}
  },
  {
   "cell_type": "code",
   "execution_count": 13,
   "source": [
    "#Set a learning rate\r\n",
    "learning_rate = 0.02"
   ],
   "outputs": [],
   "metadata": {}
  },
  {
   "cell_type": "code",
   "execution_count": 18,
   "source": [
    "for i in range(100):\r\n",
    "    outputs = np.dot(input,weights) + biases #linear model equation\r\n",
    "    deltas = outputs - target\r\n",
    "    \r\n",
    "    loss = np.sum(deltas**2) / 2 / observations #calculate loss function per obvservation\r\n",
    "    print(loss)\r\n",
    "    \r\n",
    "    deltas_scaled = deltas / observations\r\n",
    "    \r\n",
    "    weights = weights - learning_rate * np.dot(input.T,deltas_scaled) #using weight gradien descent formula\r\n",
    "    biases = biases - learning_rate * np.sum(deltas_scaled)\r\n",
    "    "
   ],
   "outputs": [
    {
     "output_type": "stream",
     "name": "stdout",
     "text": [
      "0.1692961493381353\n",
      "0.16929332473547962\n",
      "0.16929061151212677\n",
      "0.16928800527618515\n",
      "0.1692855018089432\n",
      "0.16928309705804145\n",
      "0.16928078713091202\n",
      "0.1692785682884783\n",
      "0.16927643693910227\n",
      "0.16927438963277122\n",
      "0.16927242305551252\n",
      "0.1692705340240295\n",
      "0.16926871948054906\n",
      "0.16926697648787153\n",
      "0.16926530222461653\n",
      "0.16926369398065594\n",
      "0.16926214915272692\n",
      "0.16926066524021816\n",
      "0.16925923984112212\n",
      "0.16925787064814665\n",
      "0.1692565554449806\n",
      "0.16925529210270615\n",
      "0.16925407857635236\n",
      "0.16925291290158545\n",
      "0.16925179319152886\n",
      "0.16925071763370914\n",
      "0.16924968448712213\n",
      "0.16924869207941434\n",
      "0.16924773880417654\n",
      "0.16924682311834305\n",
      "0.1692459435396943\n",
      "0.16924509864445736\n",
      "0.16924428706500103\n",
      "0.16924350748762254\n",
      "0.16924275865042085\n",
      "0.16924203934125392\n",
      "0.16924134839577692\n",
      "0.16924068469555686\n",
      "0.16924004716626326\n",
      "0.16923943477592776\n",
      "0.16923884653327498\n",
      "0.1692382814861172\n",
      "0.16923773871981312\n",
      "0.16923721735578748\n",
      "0.16923671655010886\n",
      "0.1692362354921238\n",
      "0.16923577340314416\n",
      "0.16923532953518688\n",
      "0.1692349031697636\n",
      "0.1692344936167168\n",
      "0.16923410021310353\n",
      "0.16923372232212194\n",
      "0.16923335933208003\n",
      "0.16923301065540639\n",
      "0.1692326757276983\n",
      "0.1692323540068088\n",
      "0.1692320449719685\n",
      "0.1692317481229431\n",
      "0.16923146297922328\n",
      "0.1692311890792475\n",
      "0.16923092597965386\n",
      "0.1692306732545635\n",
      "0.16923043049489045\n",
      "0.16923019730768\n",
      "0.1692299733154722\n",
      "0.16922975815569105\n",
      "0.16922955148005778\n",
      "0.16922935295402675\n",
      "0.1692291622562439\n",
      "0.16922897907802717\n",
      "0.169228803122866\n",
      "0.16922863410594202\n",
      "0.16922847175366776\n",
      "0.16922831580324363\n",
      "0.16922816600223303\n",
      "0.16922802210815302\n",
      "0.16922788388808271\n",
      "0.16922775111828497\n",
      "0.169227623583846\n",
      "0.16922750107832552\n",
      "0.16922738340342403\n",
      "0.16922727036866145\n",
      "0.1692271617910685\n",
      "0.16922705749489075\n",
      "0.16922695731130385\n",
      "0.16922686107814117\n",
      "0.16922676863962988\n",
      "0.16922667984613976\n",
      "0.1692265945539412\n",
      "0.1692265126249716\n",
      "0.16922643392661268\n",
      "0.16922635833147565\n",
      "0.16922628571719434\n",
      "0.1692262159662285\n",
      "0.16922614896567212\n",
      "0.16922608460707148\n",
      "0.1692260227862494\n",
      "0.16922596340313664\n",
      "0.16922590636160972\n",
      "0.16922585156933562\n"
     ]
    }
   ],
   "metadata": {}
  },
  {
   "cell_type": "code",
   "execution_count": 16,
   "source": [
    "print (weights,biases) #see whether if it matches inital target "
   ],
   "outputs": [
    {
     "output_type": "stream",
     "name": "stdout",
     "text": [
      "[[ 2.00242947]\n",
      " [-3.0030529 ]] [4.87520209]\n"
     ]
    }
   ],
   "metadata": {}
  },
  {
   "cell_type": "code",
   "execution_count": 19,
   "source": [
    "#plot outputs against targets\r\n",
    "\r\n",
    "pyplt.plot(outputs,target)\r\n",
    "pyplt.xlabel('Outputs')\r\n",
    "pyplt.ylabel('Targets')\r\n",
    "pyplt.show()"
   ],
   "outputs": [
    {
     "output_type": "display_data",
     "data": {
      "text/plain": [
       "<Figure size 432x288 with 1 Axes>"
      ],
      "image/png": "[encoded data removed]"
     },
     "metadata": {
      "needs_background": "light"
     }
    }
   ],
   "metadata": {}
  }
 ],
 "metadata": {
  "orig_nbformat": 4,
  "language_info": {
   "name": "python",
   "version": "3.8.8",
   "mimetype": "text/x-python",
   "codemirror_mode": {
    "name": "ipython",
    "version": 3
   },
   "pygments_lexer": "ipython3",
   "nbconvert_exporter": "python",
   "file_extension": ".py"
  },
  "kernelspec": {
   "name": "python3",
   "display_name": "Python 3.8.8 64-bit ('base': conda)"
  },
  "interpreter": {
   "hash": "8fac594bfae6525c0c41b4041d2d72effa188cc8ead05f81b1fab2bb098927fb"
  }
 },
 "nbformat": 4,
 "nbformat_minor": 2
}